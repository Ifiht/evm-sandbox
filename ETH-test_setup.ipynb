{
 "cells": [
  {
   "cell_type": "markdown",
   "id": "indonesian-constraint",
   "metadata": {},
   "source": [
    "#### Initialize and start a new ethereum private network:"
   ]
  },
  {
   "cell_type": "code",
   "execution_count": null,
   "id": "humanitarian-damage",
   "metadata": {},
   "outputs": [
    {
     "name": "stdout",
     "output_type": "stream",
     "text": [
      "Ganache CLI v6.12.2 (ganache-core: 2.13.2)\n",
      "\n",
      "Available Accounts\n",
      "==================\n",
      "(0) 0x29E56F4A69965b370b994a968f277138A90d7BA4 (100 ETH)\n",
      "(1) 0x6C906068064e662a9557338a90e95F768fD79c55 (100 ETH)\n",
      "(2) 0x127f644E0eE3e56Ee6D805681FC8B8177597A676 (100 ETH)\n",
      "(3) 0x907bF273589FAe7593eBAd1E002e26fC21Df00cc (100 ETH)\n",
      "(4) 0x753cC80cB5b807A960278f63b893C3DB2D02f95f (100 ETH)\n",
      "(5) 0x3fec45e9Cf4a0581C3210e1672d58d0A01EE6cD6 (100 ETH)\n",
      "(6) 0x0cc5a8A311f2967DE260C58CD375498D0441A168 (100 ETH)\n",
      "(7) 0xF31cEc9E43AcDE171D92c4422Bf2730A06905D8C (100 ETH)\n",
      "(8) 0xaa96946548fF7A3e39e304beE3DdD60797Bbb459 (100 ETH)\n",
      "(9) 0xdCb3025744d3DF91e5750A3030D3E85FaAA3DD2E (100 ETH)\n",
      "\n",
      "Private Keys\n",
      "==================\n",
      "(0) 0xfccfc7bf7f17938de37d111ae07b960d69a31b7db7e956c1b2a299f7eb8c960c\n",
      "(1) 0x442dcc0d3d1473fd9685b163d8e47328728eadbedc660b0e0d1ec84a8d221b3b\n",
      "(2) 0xd5f1b4324fe1849b2538f804b65335ac7a0428be8ea28fc9797885ed81b68cd1\n",
      "(3) 0x6533ed6f62a1aa436a676dda50c8bfd6e01a67bb65cf78436e1e93264a8b99fe\n",
      "(4) 0xc63f8690b7177d53f39571653466d58e08540650c6d7e997f594bcc624b07b33\n",
      "(5) 0x02d1b1512043f717b49440f48dfaba1dd34b6a27e11d59bd820be51f8d320504\n",
      "(6) 0x613d62ca6f9829c8a6e2a94618c585611756f01b98a98de134d06a434fcf653c\n",
      "(7) 0x949076d849b0981a16fb1442541130fab22ef09803ceca5f7ea052a24cacd9fc\n",
      "(8) 0x18a687b8c6a6541ed00900daadb3aa38b9de1f0286d68a9f991b635fbd7d0644\n",
      "(9) 0x8146d42a2f10c2976e4fd225a67266d061c87713f2868a2925b3363058e630c4\n",
      "\n",
      "HD Wallet\n",
      "==================\n",
      "Mnemonic:      siren loan remind elephant whip all mammal evil monitor problem yellow wild\n",
      "Base HD Path:  m/44'/60'/0'/0/{account_index}\n",
      "\n",
      "Gas Price\n",
      "==================\n",
      "\u001b[33m20000000000\u001b[39m\n",
      "\n",
      "Gas Limit\n",
      "==================\n",
      "\u001b[33m6721975\u001b[39m\n",
      "\n",
      "Call Gas Limit\n",
      "==================\n",
      "\u001b[33m9007199254740991\u001b[39m\n",
      "\n",
      "Listening on 127.0.0.1:8545\n",
      "rpc_modules\n",
      "web3_clientVersion\n",
      "eth_coinbase\n",
      "eth_blockNumber\n",
      "eth_blockNumber\n",
      "eth_getBlockByNumber\n",
      "rpc_modules\n"
     ]
    }
   ],
   "source": [
    "! ganache-cli"
   ]
  },
  {
   "cell_type": "markdown",
   "id": "amended-moses",
   "metadata": {},
   "source": [
    "#### Run the following in any terminal to attach to the above process:\n",
    "\n",
    "`geth attach rpc:http://127.0.0.1:8545`"
   ]
  },
  {
   "cell_type": "code",
   "execution_count": null,
   "id": "substantial-collaboration",
   "metadata": {},
   "outputs": [],
   "source": []
  }
 ],
 "metadata": {
  "kernelspec": {
   "display_name": "Python 3",
   "language": "python",
   "name": "python3"
  },
  "language_info": {
   "codemirror_mode": {
    "name": "ipython",
    "version": 3
   },
   "file_extension": ".py",
   "mimetype": "text/x-python",
   "name": "python",
   "nbconvert_exporter": "python",
   "pygments_lexer": "ipython3",
   "version": "3.7.10"
  }
 },
 "nbformat": 4,
 "nbformat_minor": 5
}
